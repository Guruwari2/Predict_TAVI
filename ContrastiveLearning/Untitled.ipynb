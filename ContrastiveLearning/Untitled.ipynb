{
 "cells": [
  {
   "cell_type": "code",
   "execution_count": 2,
   "id": "1cb3bd96-dd44-4b58-a36e-27d2c368f5b1",
   "metadata": {},
   "outputs": [
    {
     "name": "stdout",
     "output_type": "stream",
     "text": [
      "    n_inclusion  pm_post_TAVI  hauteur_septum_membraneux  hsm_cluster\n",
      "0        1_2019             0                        5.5            1\n",
      "1        1_2021             0                        7.5            2\n",
      "2       10_2019             0                        6.0            1\n",
      "3       10_2020             1                        5.3            0\n",
      "4       10_2021             1                        3.1            0\n",
      "..          ...           ...                        ...          ...\n",
      "516     98_2020             0                        9.5            3\n",
      "517     98_2021             0                        8.1            2\n",
      "518     99_2019             0                       10.1            3\n",
      "519     99_2020             0                        9.2            3\n",
      "520     99_2021             1                        4.9            0\n",
      "\n",
      "[521 rows x 4 columns]\n"
     ]
    }
   ],
   "source": [
    "import pandas as pd\n",
    "\n",
    "df = pd.read_csv('clusters_hauteur.csv')\n",
    "\n",
    "print(df) "
   ]
  },
  {
   "cell_type": "code",
   "execution_count": 5,
   "id": "50f0293e-e39f-4066-8e45-9b8a5bbc255a",
   "metadata": {},
   "outputs": [
    {
     "name": "stdout",
     "output_type": "stream",
     "text": [
      "  n_inclusion  pm_post_TAVI  hauteur_septum_membraneux  hsm_cluster\n",
      "0      1_2019             0                        5.5            1\n"
     ]
    }
   ],
   "source": [
    "id_ = '1_2019'\n",
    "mes =df[df['n_inclusion']==id_] \n",
    "\n",
    "print(mes)"
   ]
  },
  {
   "cell_type": "code",
   "execution_count": 8,
   "id": "3361f33c-4524-44b4-babd-ecce6db7790f",
   "metadata": {},
   "outputs": [
    {
     "name": "stdout",
     "output_type": "stream",
     "text": [
      "1\n"
     ]
    }
   ],
   "source": [
    "print(int(mes.hsm_cluster))\n"
   ]
  }
 ],
 "metadata": {
  "kernelspec": {
   "display_name": "Python 3 (ipykernel)",
   "language": "python",
   "name": "python3"
  },
  "language_info": {
   "codemirror_mode": {
    "name": "ipython",
    "version": 3
   },
   "file_extension": ".py",
   "mimetype": "text/x-python",
   "name": "python",
   "nbconvert_exporter": "python",
   "pygments_lexer": "ipython3",
   "version": "3.8.10"
  }
 },
 "nbformat": 4,
 "nbformat_minor": 5
}
